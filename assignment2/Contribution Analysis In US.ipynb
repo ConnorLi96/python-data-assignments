{
 "cells": [
  {
   "cell_type": "markdown",
   "metadata": {},
   "source": [
    "# 1. 数据整理\n",
    "    - 把所有有GitHub的记者所在地址加入 Github_Analysis.csv\n",
    "    - 从这些里面再筛选出所有美国记者"
   ]
  },
  {
   "cell_type": "code",
   "execution_count": 192,
   "metadata": {},
   "outputs": [],
   "source": [
    "import pandas as pd\n",
    "df = pd.read_csv('Data_Journalism.csv')\n",
    "dfs = pd.read_csv('Github_Analysis.csv')"
   ]
  },
  {
   "cell_type": "code",
   "execution_count": 255,
   "metadata": {},
   "outputs": [],
   "source": [
    "# 这里不封函数了 但是说明另外一个问题 以后爬数据不能偷懒 其他信息最好一起写进去 不然整理起来太麻烦\n",
    "Location = []\n",
    "for i in df['Name']: # 有地点的df\n",
    "    for n in dfs['Name']: # 没有地点的dfs\n",
    "        if i == n:\n",
    "            L = df[df['Name']==i]['Location'].tolist()[0] # 变成str再写进list 然后再写进去DataFrame\n",
    "            Location.append(L) \n",
    "            \n",
    "# 把地点和有GitHub的记者一一对应起来\n",
    "dfs.insert(0, 'Location', Location)"
   ]
  },
  {
   "cell_type": "code",
   "execution_count": 263,
   "metadata": {},
   "outputs": [],
   "source": [
    "# 清理出所有的美国的信息，去掉其他的 并写成DataFrame\n",
    "\n",
    "for i in dfs['Location']:\n",
    "    if 'United States' not in i:\n",
    "        number = dfs[dfs['Location'] == i]['Unnamed: 0'].tolist()[0] # 运用index定位\n",
    "        dfs.drop([number], inplace=True)"
   ]
  },
  {
   "cell_type": "code",
   "execution_count": 306,
   "metadata": {},
   "outputs": [
    {
     "data": {
      "text/html": [
       "<div>\n",
       "<style scoped>\n",
       "    .dataframe tbody tr th:only-of-type {\n",
       "        vertical-align: middle;\n",
       "    }\n",
       "\n",
       "    .dataframe tbody tr th {\n",
       "        vertical-align: top;\n",
       "    }\n",
       "\n",
       "    .dataframe thead th {\n",
       "        text-align: right;\n",
       "    }\n",
       "</style>\n",
       "<table border=\"1\" class=\"dataframe\">\n",
       "  <thead>\n",
       "    <tr style=\"text-align: right;\">\n",
       "      <th></th>\n",
       "      <th>Location</th>\n",
       "      <th>Unnamed: 0</th>\n",
       "      <th>Name</th>\n",
       "      <th>Times</th>\n",
       "      <th>Last_contributions</th>\n",
       "      <th>Wholeyear_contributions</th>\n",
       "    </tr>\n",
       "  </thead>\n",
       "  <tbody>\n",
       "    <tr>\n",
       "      <th>0</th>\n",
       "      <td>United States, Brooklyn (US-VA)</td>\n",
       "      <td>0</td>\n",
       "      <td>Justin Myers</td>\n",
       "      <td>40</td>\n",
       "      <td>2018-09-08</td>\n",
       "      <td>155</td>\n",
       "    </tr>\n",
       "    <tr>\n",
       "      <th>5</th>\n",
       "      <td>Willits, United States</td>\n",
       "      <td>5</td>\n",
       "      <td>Michael Mott</td>\n",
       "      <td>0</td>\n",
       "      <td>2018-09-04</td>\n",
       "      <td>95</td>\n",
       "    </tr>\n",
       "    <tr>\n",
       "      <th>6</th>\n",
       "      <td>New Orleans, United States</td>\n",
       "      <td>6</td>\n",
       "      <td>Troy Thibodeaux</td>\n",
       "      <td>2</td>\n",
       "      <td>2018-10-14</td>\n",
       "      <td>3</td>\n",
       "    </tr>\n",
       "    <tr>\n",
       "      <th>7</th>\n",
       "      <td>Eugene, United States</td>\n",
       "      <td>7</td>\n",
       "      <td>John Heasly</td>\n",
       "      <td>76</td>\n",
       "      <td>2018-11-05</td>\n",
       "      <td>198</td>\n",
       "    </tr>\n",
       "    <tr>\n",
       "      <th>9</th>\n",
       "      <td>San Francisco, United States</td>\n",
       "      <td>9</td>\n",
       "      <td>Jeremia Kimelman</td>\n",
       "      <td>67</td>\n",
       "      <td>2018-10-21</td>\n",
       "      <td>230</td>\n",
       "    </tr>\n",
       "  </tbody>\n",
       "</table>\n",
       "</div>"
      ],
      "text/plain": [
       "                          Location  Unnamed: 0              Name  Times  \\\n",
       "0  United States, Brooklyn (US-VA)           0      Justin Myers     40   \n",
       "5           Willits, United States           5      Michael Mott      0   \n",
       "6       New Orleans, United States           6   Troy Thibodeaux      2   \n",
       "7            Eugene, United States           7       John Heasly     76   \n",
       "9     San Francisco, United States           9  Jeremia Kimelman     67   \n",
       "\n",
       "  Last_contributions Wholeyear_contributions  \n",
       "0         2018-09-08                     155  \n",
       "5         2018-09-04                      95  \n",
       "6         2018-10-14                       3  \n",
       "7         2018-11-05                     198  \n",
       "9         2018-10-21                     230  "
      ]
     },
     "execution_count": 306,
     "metadata": {},
     "output_type": "execute_result"
    }
   ],
   "source": [
    "dfs.head()"
   ]
  },
  {
   "cell_type": "markdown",
   "metadata": {},
   "source": [
    "# 2. 数据可视化\n",
    "    - 统计美国城市的数量\n",
    "    - 统计所有美国城市 在GitHub上编程天数的平均值"
   ]
  },
  {
   "cell_type": "code",
   "execution_count": 309,
   "metadata": {},
   "outputs": [],
   "source": [
    "from matplotlib import pyplot as plt\n",
    "country_counts = pd.DataFrame(dfs['Location'].value_counts()[:10])\n",
    "country = pd.DataFrame(country_counts)"
   ]
  },
  {
   "cell_type": "code",
   "execution_count": 310,
   "metadata": {},
   "outputs": [
    {
     "data": {
      "image/png": "[encoded data removed]",
      "text/plain": [
       "<Figure size 1008x504 with 1 Axes>"
      ]
     },
     "metadata": {},
     "output_type": "display_data"
    }
   ],
   "source": [
    "fig = plt.figure(figsize=(14,7)) #adjust size\n",
    "plt.barh(country.index, country.Location,color = 'steelblue',edgecolor = '#40b4e5') #change color of the bars\n",
    "plt.title('Top 10 States') #plot title and label name\n",
    "plt.xlabel('Counts')\n",
    "# plt.ylabel('counts')\n",
    "plt.show()\n",
    "\n",
    "# 纽约独占鳌头 再来看看contribution的平均值"
   ]
  },
  {
   "cell_type": "code",
   "execution_count": 270,
   "metadata": {},
   "outputs": [],
   "source": [
    "import plotly\n",
    "import plotly.graph_objs as go"
   ]
  },
  {
   "cell_type": "code",
   "execution_count": 275,
   "metadata": {},
   "outputs": [
    {
     "name": "stderr",
     "output_type": "stream",
     "text": [
      "/Users/lichenxi/venv/lib/python3.6/site-packages/plotly/offline/offline.py:608: UserWarning:\n",
      "\n",
      "Your filename `country_with_average_like_bar` didn't end with .html. Adding .html to the end of your file.\n",
      "\n"
     ]
    },
    {
     "data": {
      "text/plain": [
       "'file:///Users/lichenxi/Assignment/country_with_average_like_bar.html'"
      ]
     },
     "execution_count": 275,
     "metadata": {},
     "output_type": "execute_result"
    }
   ],
   "source": [
    "pd_df2 = dfs.groupby(['Location'])['Times'].mean().reset_index().sort_values(\"Times\",ascending=False)\n",
    "data = [go.Bar(x=pd_df2.Location,\n",
    "            y=pd_df2.Times)]\n",
    "plotly.offline.plot(data, filename='country_with_average_like_bar')\n",
    "# 这个图在jupyter notebook上看不到 我单独放到文件夹里了"
   ]
  },
  {
   "cell_type": "code",
   "execution_count": null,
   "metadata": {},
   "outputs": [],
   "source": [
    "# 很有趣的是 最大mean居然不是New York 原来纽约记者有GitHub的虽然多，但是很多人每年的编程天数并不高 所以mean的值并不高\n",
    "# 但是Chicago一个老哥就干了160天 没有人拖后腿 所以一支独秀了\n",
    "# 从这个角度再来看，突然发现美国的数据新闻记者虽然多，但是其实GitHub contributions are not the most one, whether times or whole contributions"
   ]
  }
 ],
 "metadata": {
  "kernelspec": {
   "display_name": "Python 3",
   "language": "python",
   "name": "python3"
  },
  "language_info": {
   "codemirror_mode": {
    "name": "ipython",
    "version": 3
   },
   "file_extension": ".py",
   "mimetype": "text/x-python",
   "name": "python",
   "nbconvert_exporter": "python",
   "pygments_lexer": "ipython3",
   "version": "3.6.1"
  }
 },
 "nbformat": 4,
 "nbformat_minor": 2
}
