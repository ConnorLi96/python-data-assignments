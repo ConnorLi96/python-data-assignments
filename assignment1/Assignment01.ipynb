{
 "cells": [
  {
   "cell_type": "markdown",
   "metadata": {},
   "source": [
    "# Assignment01"
   ]
  },
  {
   "cell_type": "markdown",
   "metadata": {},
   "source": [
    "## 新闻记者网站的爬取"
   ]
  },
  {
   "cell_type": "code",
   "execution_count": 2,
   "metadata": {},
   "outputs": [],
   "source": [
    "# 动态爬取\n",
    "from selenium import webdriver\n",
    "import time\n",
    "browser = webdriver.Chrome() \n",
    "browser.get('http://jplusplus.github.io/global-directory/')\n",
    "element = browser.find_elements_by_class_name('back') "
   ]
  },
  {
   "cell_type": "code",
   "execution_count": 7,
   "metadata": {},
   "outputs": [
    {
     "data": {
      "text/plain": [
       "'Martín González'"
      ]
     },
     "execution_count": 7,
     "metadata": {},
     "output_type": "execute_result"
    }
   ],
   "source": [
    "# 文本信息处理\n",
    "# 要用\\n 来切，\\n 本身表示空行"
   ]
  },
  {
   "cell_type": "code",
   "execution_count": 120,
   "metadata": {},
   "outputs": [
    {
     "name": "stdout",
     "output_type": "stream",
     "text": [
      "Yordi Dam LocalFocus Amsterdam, The Netherlands\n"
     ]
    }
   ],
   "source": [
    "# use split to get text information \n",
    "name = element[i].text.split(\"\\n\")[0]\n",
    "institution = element[i].text.split(\"\\n\")[1]\n",
    "location = element[i].text.split(\"\\n\")[2]"
   ]
  },
  {
   "cell_type": "code",
   "execution_count": 14,
   "metadata": {},
   "outputs": [
    {
     "data": {
      "text/plain": [
       "''"
      ]
     },
     "execution_count": 14,
     "metadata": {},
     "output_type": "execute_result"
    }
   ],
   "source": [
    "# 单独link的确定\n",
    "\n",
    "# 0， pgp\n",
    "PGP = links[0].get_attribute('href')\n",
    "PGP\n",
    "# 1 email\n",
    "links[0].get_attribute('href')\n",
    "# 2 twitter \n",
    "mail = links[1].get_attribute('href')\n",
    "# 3 github\n",
    "Twitter = links[2].get_attribute('href')\n",
    "Twitter\n",
    "# 4 website\n",
    "Github = links[3].get_attribute('href')\n",
    "Github"
   ]
  },
  {
   "cell_type": "code",
   "execution_count": null,
   "metadata": {},
   "outputs": [],
   "source": [
    "# 爬取所有的信息\n",
    "content = []\n",
    "for i in range(len(element)):\n",
    "    name = element[i].text.split(\"\\n\")[0]\n",
    "    institution = element[i].text.split(\"\\n\")[1]\n",
    "    location = element[i].text.split(\"\\n\")[2]\n",
    "    links = element[i].find_elements_by_css_selector('.pyk-news-discovery #grid li a') \n",
    "    PGP = links[0].get_attribute('href')\n",
    "    Mail = links[1].get_attribute('href')\n",
    "    Twitter = links[2].get_attribute('href')\n",
    "    Github = links[3].get_attribute('href')\n",
    "    content.append((name,institution,location, PGP,Mail,Twitter, Github))"
   ]
  },
  {
   "cell_type": "code",
   "execution_count": 431,
   "metadata": {},
   "outputs": [],
   "source": [
    "import pandas as pd\n",
    "df = pd.DataFrame(content, columns = ['Name','Institution','Location','PGP','Mail','Twitter','Github'])\n",
    "# df.to_csv('Data_Journalism.csv')"
   ]
  },
  {
   "cell_type": "code",
   "execution_count": 405,
   "metadata": {},
   "outputs": [
    {
     "data": {
      "text/html": [
       "<div>\n",
       "<style scoped>\n",
       "    .dataframe tbody tr th:only-of-type {\n",
       "        vertical-align: middle;\n",
       "    }\n",
       "\n",
       "    .dataframe tbody tr th {\n",
       "        vertical-align: top;\n",
       "    }\n",
       "\n",
       "    .dataframe thead th {\n",
       "        text-align: right;\n",
       "    }\n",
       "</style>\n",
       "<table border=\"1\" class=\"dataframe\">\n",
       "  <thead>\n",
       "    <tr style=\"text-align: right;\">\n",
       "      <th></th>\n",
       "      <th>Unnamed: 0</th>\n",
       "      <th>Name</th>\n",
       "      <th>Institution</th>\n",
       "      <th>Location</th>\n",
       "      <th>PGP</th>\n",
       "      <th>Mail</th>\n",
       "      <th>Twitter</th>\n",
       "      <th>Github</th>\n",
       "    </tr>\n",
       "  </thead>\n",
       "  <tbody>\n",
       "    <tr>\n",
       "      <th>0</th>\n",
       "      <td>0</td>\n",
       "      <td>Julius Tröger</td>\n",
       "      <td>Berliner Morgenpost</td>\n",
       "      <td>Berlin, Germany</td>\n",
       "      <td>NaN</td>\n",
       "      <td>mailto:julius.troeger@morgenpost.de</td>\n",
       "      <td>http://www.twitter.com/juliustroeger</td>\n",
       "      <td>NaN</td>\n",
       "    </tr>\n",
       "    <tr>\n",
       "      <th>1</th>\n",
       "      <td>1</td>\n",
       "      <td>Justin Myers</td>\n",
       "      <td>The Associated Press</td>\n",
       "      <td>United States, Brooklyn (US-VA)</td>\n",
       "      <td>https://hkps.pool.sks-keyservers.net/pks/looku...</td>\n",
       "      <td>mailto:justin@justinmyers.net</td>\n",
       "      <td>http://www.twitter.com/myersjustinc</td>\n",
       "      <td>http://github.com/myersjustinc</td>\n",
       "    </tr>\n",
       "    <tr>\n",
       "      <th>2</th>\n",
       "      <td>2</td>\n",
       "      <td>Tolga Celik</td>\n",
       "      <td>Ege University</td>\n",
       "      <td>Izmir, Turkey</td>\n",
       "      <td>NaN</td>\n",
       "      <td>mailto:tolcelik@gmail.com</td>\n",
       "      <td>http://www.twitter.com/celiktolga</td>\n",
       "      <td>NaN</td>\n",
       "    </tr>\n",
       "    <tr>\n",
       "      <th>3</th>\n",
       "      <td>3</td>\n",
       "      <td>Winnie Kamau</td>\n",
       "      <td>Africa Data Journalists Network</td>\n",
       "      <td>Nairobi, Kenya</td>\n",
       "      <td>NaN</td>\n",
       "      <td>mailto:kamawinnie@gmail.com</td>\n",
       "      <td>http://www.twitter.com/WinnieKamau254</td>\n",
       "      <td>NaN</td>\n",
       "    </tr>\n",
       "    <tr>\n",
       "      <th>4</th>\n",
       "      <td>4</td>\n",
       "      <td>Annabel Church</td>\n",
       "      <td>NaN</td>\n",
       "      <td>N/A, Germany</td>\n",
       "      <td>NaN</td>\n",
       "      <td>mailto:</td>\n",
       "      <td>http://www.twitter.com/annabelchurch</td>\n",
       "      <td>http://www.github.com/arc64</td>\n",
       "    </tr>\n",
       "  </tbody>\n",
       "</table>\n",
       "</div>"
      ],
      "text/plain": [
       "   Unnamed: 0            Name                      Institution  \\\n",
       "0           0   Julius Tröger              Berliner Morgenpost   \n",
       "1           1    Justin Myers             The Associated Press   \n",
       "2           2     Tolga Celik                   Ege University   \n",
       "3           3    Winnie Kamau  Africa Data Journalists Network   \n",
       "4           4  Annabel Church                              NaN   \n",
       "\n",
       "                          Location  \\\n",
       "0                  Berlin, Germany   \n",
       "1  United States, Brooklyn (US-VA)   \n",
       "2                    Izmir, Turkey   \n",
       "3                   Nairobi, Kenya   \n",
       "4                     N/A, Germany   \n",
       "\n",
       "                                                 PGP  \\\n",
       "0                                                NaN   \n",
       "1  https://hkps.pool.sks-keyservers.net/pks/looku...   \n",
       "2                                                NaN   \n",
       "3                                                NaN   \n",
       "4                                                NaN   \n",
       "\n",
       "                                  Mail                                Twitter  \\\n",
       "0  mailto:julius.troeger@morgenpost.de   http://www.twitter.com/juliustroeger   \n",
       "1        mailto:justin@justinmyers.net    http://www.twitter.com/myersjustinc   \n",
       "2            mailto:tolcelik@gmail.com      http://www.twitter.com/celiktolga   \n",
       "3          mailto:kamawinnie@gmail.com  http://www.twitter.com/WinnieKamau254   \n",
       "4                              mailto:   http://www.twitter.com/annabelchurch   \n",
       "\n",
       "                           Github  \n",
       "0                             NaN  \n",
       "1  http://github.com/myersjustinc  \n",
       "2                             NaN  \n",
       "3                             NaN  \n",
       "4     http://www.github.com/arc64  "
      ]
     },
     "execution_count": 405,
     "metadata": {},
     "output_type": "execute_result"
    }
   ],
   "source": [
    "pd.read_csv('Data_Journalism.csv').head(5)"
   ]
  },
  {
   "cell_type": "markdown",
   "metadata": {},
   "source": [
    "## 简单分析"
   ]
  },
  {
   "cell_type": "code",
   "execution_count": 442,
   "metadata": {},
   "outputs": [],
   "source": [
    "# 所有带有GitHub页面的数据新闻记者\n",
    "Name_with_github = df[df['Github'] != '']['Name'].tolist()"
   ]
  },
  {
   "cell_type": "code",
   "execution_count": 446,
   "metadata": {},
   "outputs": [],
   "source": [
    "# 找出所有存在的GitHub链接\n",
    "Github_link= df[df['Github'] != '']['Github'].tolist()"
   ]
  },
  {
   "cell_type": "markdown",
   "metadata": {},
   "source": [
    "## 所有GitHub页面的爬取"
   ]
  },
  {
   "cell_type": "code",
   "execution_count": 332,
   "metadata": {},
   "outputs": [],
   "source": [
    "# 单独页面的爬取测试\n",
    "my_data = data.find_all('rect')\n",
    "Data_github = []\n",
    "for i in range(len(my_time)):\n",
    "    data_date = my_data[i]['data-date']\n",
    "    data_count = my_data[i]['data-count']\n",
    "    Data_github.append((data_date,data_count))"
   ]
  },
  {
   "cell_type": "code",
   "execution_count": 338,
   "metadata": {},
   "outputs": [],
   "source": [
    "df = pd.DataFrame(Data_github, columns = ['Data','Contributions'])"
   ]
  },
  {
   "cell_type": "code",
   "execution_count": 420,
   "metadata": {},
   "outputs": [
    {
     "data": {
      "text/plain": [
       "50"
      ]
     },
     "execution_count": 420,
     "metadata": {},
     "output_type": "execute_result"
    }
   ],
   "source": [
    "Times_wholeyear = df['Contributions'].value_counts()[1:].sum()\n",
    "Times_wholeyear\n",
    "# 这个程序员大约一年时间里有多少天在写代码"
   ]
  },
  {
   "cell_type": "code",
   "execution_count": 422,
   "metadata": {},
   "outputs": [
    {
     "data": {
      "text/plain": [
       "'2018-11-03'"
      ]
     },
     "execution_count": 422,
     "metadata": {},
     "output_type": "execute_result"
    }
   ],
   "source": [
    "last_contributions = df[df['Contributions'] != '0']['Data'].tolist()[-1]\n",
    "last_contributions\n",
    "# 找出他们最后更新的时间"
   ]
  },
  {
   "cell_type": "code",
   "execution_count": 465,
   "metadata": {},
   "outputs": [
    {
     "data": {
      "text/plain": [
       "'119'"
      ]
     },
     "execution_count": 465,
     "metadata": {},
     "output_type": "execute_result"
    }
   ],
   "source": [
    "Wholeyear_contributions = data.find('h2',attrs = {'class':'f4 text-normal mb-2'}).text.split()[0]\n",
    "Wholeyear_contributions\n",
    "# 一整年的contributions的数量"
   ]
  },
  {
   "cell_type": "code",
   "execution_count": 471,
   "metadata": {},
   "outputs": [],
   "source": [
    "# 单独一个新闻记者的GitHub页面\n",
    "# 封装成函数\n",
    "import requests\n",
    "from bs4 import BeautifulSoup\n",
    "import pandas as pd\n",
    "\n",
    "def Githubpage(i):\n",
    "    r = requests.get(i)\n",
    "    html = r.text\n",
    "    data =  BeautifulSoup(html,\"html.parser\")\n",
    "    Data_github = []\n",
    "    my_data = data.find_all('rect')\n",
    "    \n",
    "    \n",
    "    # 静态爬取一整年的数据\n",
    "    for i in range(len(my_data)):\n",
    "        data_date = my_data[i]['data-date']\n",
    "        data_count = my_data[i]['data-count']\n",
    "        Data_github.append((data_date,data_count))\n",
    "        \n",
    "        \n",
    "        \n",
    "    # 数据分析和处理 找出三个有意义的数据\n",
    "    df = pd.DataFrame(Data_github, columns = ['Data','Contributions'])\n",
    "    global last_contributions\n",
    "    global Times_wholeyear\n",
    "    global Wholeyear_contributions\n",
    "    Times_wholeyear = df['Contributions'].value_counts()[1:].sum()\n",
    "    last_contributions = df[df['Contributions'] != '0']['Data'].tolist()[-1]\n",
    "    Wholeyear_contributions = data.find('h2',attrs = {'class':'f4 text-normal mb-2'}).text.split()[0]\n",
    "    "
   ]
  },
  {
   "cell_type": "code",
   "execution_count": 499,
   "metadata": {},
   "outputs": [
    {
     "name": "stdout",
     "output_type": "stream",
     "text": [
      "http://www.github.com/mwmott\n",
      "http://www.github.com/juliengathelier\n",
      "http://www.github.com/inkaman\n",
      "https://www.github.com/erinrichey\n",
      "http://www.github.com/konradweber\n",
      "http://www.bitbucket.org/sunsentdevs\n",
      "http://www.github.com/garydagorn\n",
      "http://www.github.com/nepomunich\n",
      "http://www.github.com/blaquans\n",
      "http://www.github.com/dataninja\n",
      "http://www.github.com/chadskelton\n",
      "http://www.github.com/littleshell\n",
      "http://www.github.com/kamal-hothi\n",
      "http://www.github.com/sylke-gruhnwald\n",
      "http://www.github.com/the-claus\n",
      "http://www.github.com/karbasa\n",
      "http://www.github.com/cohart\n",
      "http://www.github.com/Vivarta\n",
      "http://www.github.com/homofaber17\n",
      "http://www.github.com/jescuderoma\n",
      "http://www.github.com/adelgadob\n",
      "http://www.github.com/fcomesana\n",
      "http://www.github.com/marcabra\n",
      "http://www.github.com/stevenrich\n",
      "http://www.github.com/MonaChalabi\n",
      "http://www.github.com/raphadasilva\n",
      "http://www.github.com/mguiraud\n",
      "http://www.github.com/wnstnsmth\n",
      "http://www.github.com/pushthings4ward\n"
     ]
    }
   ],
   "source": [
    "# 所有记者github页面的爬取\n",
    "Github_data = []\n",
    "for i in Github_link:   \n",
    "    try:\n",
    "        Githubpage(i)\n",
    "        \n",
    "    except IndexError:\n",
    "        print(i) # 所有在GitHub上没有任何contributions的账号\n",
    "    Github_data.append((Times_wholeyear,last_contributions, Wholeyear_contributions))\n"
   ]
  },
  {
   "cell_type": "code",
   "execution_count": 502,
   "metadata": {},
   "outputs": [
    {
     "data": {
      "text/plain": [
       "87"
      ]
     },
     "execution_count": 502,
     "metadata": {},
     "output_type": "execute_result"
    }
   ],
   "source": [
    "len(Github_data)"
   ]
  },
  {
   "cell_type": "code",
   "execution_count": 504,
   "metadata": {},
   "outputs": [],
   "source": [
    "df = pd.DataFrame(Github_data, columns = ['Times','Wholeyear_contributions','Last_contributions']) \n",
    "df.insert(0, 'Name', Name_with_github)# 加入新列 但是长度必须一致"
   ]
  },
  {
   "cell_type": "code",
   "execution_count": 508,
   "metadata": {},
   "outputs": [],
   "source": [
    "df.to_csv('Github_Analysis.csv')"
   ]
  },
  {
   "cell_type": "code",
   "execution_count": null,
   "metadata": {},
   "outputs": [],
   "source": []
  },
  {
   "cell_type": "code",
   "execution_count": null,
   "metadata": {},
   "outputs": [],
   "source": []
  }
 ],
 "metadata": {
  "kernelspec": {
   "display_name": "Python 3",
   "language": "python",
   "name": "python3"
  },
  "language_info": {
   "codemirror_mode": {
    "name": "ipython",
    "version": 3
   },
   "file_extension": ".py",
   "mimetype": "text/x-python",
   "name": "python",
   "nbconvert_exporter": "python",
   "pygments_lexer": "ipython3",
   "version": "3.6.1"
  }
 },
 "nbformat": 4,
 "nbformat_minor": 2
}
